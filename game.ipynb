{
 "cells": [
  {
   "cell_type": "markdown",
   "metadata": {},
   "source": [
    "# 🌾 Farm of Life – A Conway’s Game of Life Simulation 🌱\n",
    "\n",
    "## **Introduction**\n",
    "**Farm of Life** is an interactive adaptation of **Conway’s Game of Life**, set in a cozy, farm-like environment. Instead of abstract grid cells, the simulation features:\n",
    "- 🌾 **Wheat and flowers** representing living cells  \n",
    "- 🚜 **A farmer agent** tending to the crops  \n",
    "- 🏡 **A farm-like setting** instead of a traditional grid  \n",
    "\n",
    "The game evolves based on **cellular automata rules**, with the added complexity of an **AI agent** trained to optimize the farm’s growth.\n",
    "\n",
    "---\n",
    "\n",
    "## **How It Works**\n",
    "1. **Conway’s Rules Applied to a Farm:**\n",
    "   - 🌱 **Alive cells** (wheat/flowers) follow classic birth/survival rules.\n",
    "   - 🍂 **Dead cells** become empty soil but can regrow under the right conditions.\n",
    "\n",
    "2. **Farmer Agent (Reinforcement Learning)**\n",
    "   - 🚜 The **AI-controlled farmer** learns to **maximize growth**.\n",
    "   - 🧠 Trained using **Deep Q-Learning (DQN), PPO, and A2C**.\n",
    "\n",
    "---\n",
    "\n",
    "## **🎮 Running the Simulation**\n",
    "1. **Choose an agent type:**\n",
    "   - 🤖 **Trained Agents** – (PPO, A2C, DQN)\n",
    "   - 🎲 **Random Agent** – (makes random choices)\n",
    "   - 🌾 **No agent** – (just observe the cellular automata)\n",
    "\n",
    "2. **Start the simulation** using:\n",
    "   ```python\n",
    "   from game_of_life import run_trained_agent, FarmLifeEnv \n",
    "\n",
    "   env = FarmLifeEnv()\n",
    "   run_trained_agent(env, algorithm=\"PPO\", model_path=\"./models/ppo_farm_life.zip\")"
   ]
  },
  {
   "cell_type": "code",
   "execution_count": 1,
   "metadata": {},
   "outputs": [
    {
     "name": "stdout",
     "output_type": "stream",
     "text": [
      "./models/ppo_farm_life\n",
      "Evaluating PPO agent...\n",
      "./models/a2c_farm_life\n",
      "Evaluating A2C agent...\n",
      "./models/dqn_farm_life\n",
      "Evaluating DQN agent...\n",
      "Evaluating random agent...\n",
      "Results:\n",
      "PPO: Mean Reward = 18.524938271604956, Std Reward = 11.467035845440973\n",
      "A2C: Mean Reward = 17.939876543209895, Std Reward = 12.04866543794555\n",
      "DQN: Mean Reward = 20.551234567901236, Std Reward = 12.653135189849255\n",
      "Random: Mean Reward = 10.968765432098767, Std Reward = 7.593933125661881\n"
     ]
    }
   ],
   "source": [
    "\n",
    "from game_of_life import FarmLifeEnv, train_agent, evaluate_agent, evaluate_random_agent\n",
    "import os\n",
    "import seaborn as sns\n",
    "from stable_baselines3 import PPO, A2C, DQN\n",
    "import pandas as pd \n",
    "\n",
    "# Create the environment\n",
    "env = FarmLifeEnv()\n",
    "\n",
    "algorithms = ['PPO', 'A2C', 'DQN']\n",
    "results = {}\n",
    "for algo in algorithms:\n",
    "    model_path = f\"./models/{algo.lower()}_farm_life\"\n",
    "    print(model_path)\n",
    "    if not os.path.exists(model_path + \".zip\"):\n",
    "        print(f\"Training new model with {algo}...\")\n",
    "        model = train_agent(env, algorithm=algo, total_timesteps=50000, save_path=model_path)\n",
    "    else:\n",
    "        model = globals()[algo].load(model_path)\n",
    "    \n",
    "    \n",
    "    print(f\"Evaluating {algo} agent...\")\n",
    "    mean_reward, std_reward = evaluate_agent(env, model)\n",
    "    results[algo] = (mean_reward, std_reward)\n",
    "\n",
    "print(\"Evaluating random agent...\")\n",
    "mean_reward, std_reward = evaluate_random_agent(env)\n",
    "results['Random'] = (mean_reward, std_reward)\n",
    "\n",
    "print(\"Results:\")\n",
    "for algo, (mean_reward, std_reward) in results.items():\n",
    "    print(f\"{algo}: Mean Reward = {mean_reward}, Std Reward = {std_reward}\")\n",
    "\n",
    "\n",
    "# # Plot results\n",
    "# sns.set_theme(style=\"whitegrid\")\n",
    "# ax = sns.barplot(x=list(results.keys()), y=[r[0] for r in results.values()], errorbar=[r[1] for r in results.values()])\n",
    "# ax.set_title(\"Farm Life - Performance Comparison\")\n",
    "# ax.set_ylabel(\"Mean Reward\")\n",
    "\n"
   ]
  },
  {
   "cell_type": "code",
   "execution_count": 2,
   "metadata": {},
   "outputs": [
    {
     "data": {
      "text/html": [
       "<div>\n",
       "<style scoped>\n",
       "    .dataframe tbody tr th:only-of-type {\n",
       "        vertical-align: middle;\n",
       "    }\n",
       "\n",
       "    .dataframe tbody tr th {\n",
       "        vertical-align: top;\n",
       "    }\n",
       "\n",
       "    .dataframe thead th {\n",
       "        text-align: right;\n",
       "    }\n",
       "</style>\n",
       "<table border=\"1\" class=\"dataframe\">\n",
       "  <thead>\n",
       "    <tr style=\"text-align: right;\">\n",
       "      <th></th>\n",
       "      <th>PPO</th>\n",
       "      <th>A2C</th>\n",
       "      <th>DQN</th>\n",
       "      <th>Random</th>\n",
       "    </tr>\n",
       "  </thead>\n",
       "  <tbody>\n",
       "    <tr>\n",
       "      <th>Mean Reward</th>\n",
       "      <td>18.524938</td>\n",
       "      <td>17.939877</td>\n",
       "      <td>20.551235</td>\n",
       "      <td>10.968765</td>\n",
       "    </tr>\n",
       "    <tr>\n",
       "      <th>Std Reward</th>\n",
       "      <td>11.467036</td>\n",
       "      <td>12.048665</td>\n",
       "      <td>12.653135</td>\n",
       "      <td>7.593933</td>\n",
       "    </tr>\n",
       "  </tbody>\n",
       "</table>\n",
       "</div>"
      ],
      "text/plain": [
       "                   PPO        A2C        DQN     Random\n",
       "Mean Reward  18.524938  17.939877  20.551235  10.968765\n",
       "Std Reward   11.467036  12.048665  12.653135   7.593933"
      ]
     },
     "execution_count": 2,
     "metadata": {},
     "output_type": "execute_result"
    }
   ],
   "source": [
    "import pandas as pd\n",
    "df = pd.DataFrame(results, index=['Mean Reward', 'Std Reward'])\n",
    "df.head()"
   ]
  },
  {
   "cell_type": "code",
   "execution_count": 3,
   "metadata": {},
   "outputs": [
    {
     "data": {
      "text/plain": [
       "Text(0, 0.5, 'Mean Reward')"
      ]
     },
     "execution_count": 3,
     "metadata": {},
     "output_type": "execute_result"
    },
    {
     "data": {
      "image/png": "[encoded data removed]",
      "text/plain": [
       "<Figure size 640x480 with 1 Axes>"
      ]
     },
     "metadata": {},
     "output_type": "display_data"
    }
   ],
   "source": [
    "sns.set_theme(style=\"whitegrid\")\n",
    "ax=sns.barplot(df.sort_values(by='Mean Reward', axis=1, ascending=False))\n",
    "ax.set_title(\"Farm Life - Performance Comparison\")\n",
    "ax.set_ylabel(\"Mean Reward\")\n"
   ]
  },
  {
   "cell_type": "markdown",
   "metadata": {},
   "source": [
    "## Run the Game\n",
    "\n",
    "### Trained Environment or Random Agent\n",
    "\n",
    "Run the following cell and choose an algorithm for the environment:\n",
    "\n",
    "- **PPO** – Proximal Policy Optimization (trained agent)\n",
    "- **A2C** – Advantage Actor-Critic (trained agent)\n",
    "- **DQN** – Deep Q-Network (trained agent)\n",
    "- **Random Agent** – An untrained agent that makes random choices\n",
    "\n",
    "Select an option from the dropdown to proceed.\n"
   ]
  },
  {
   "cell_type": "code",
   "execution_count": 8,
   "metadata": {},
   "outputs": [
    {
     "data": {
      "text/markdown": [
       "## Please choose a model for the environment"
      ],
      "text/plain": [
       "<IPython.core.display.Markdown object>"
      ]
     },
     "metadata": {},
     "output_type": "display_data"
    },
    {
     "data": {
      "application/vnd.jupyter.widget-view+json": {
       "model_id": "81ed50e928874937b2ae3938dca2edaa",
       "version_major": 2,
       "version_minor": 0
      },
      "text/plain": [
       "Dropdown(description='Algorithm:', options=('PPO', 'A2C', 'DQN', 'Random Agent'), style=DescriptionStyle(descr…"
      ]
     },
     "metadata": {},
     "output_type": "display_data"
    }
   ],
   "source": [
    "import ipywidgets as widgets\n",
    "from IPython.display import display, Markdown\n",
    "\n",
    "# Markdown text\n",
    "md_text = \"## Please choose a model for the environment\"\n",
    "\n",
    "# Dropdown widget\n",
    "algorithm_selector = widgets.Dropdown(\n",
    "    options=[\"PPO\", \"A2C\", \"DQN\", \"Random Agent\"],\n",
    "    value=\"PPO\",\n",
    "    description=\"Algorithm:\",\n",
    "    style={\"description_width\": \"initial\"}\n",
    ")\n",
    "\n",
    "# Function to update the selected algorithm\n",
    "def update_algorithm(change):\n",
    "    global algorithm\n",
    "    algorithm = change[\"new\"]\n",
    "\n",
    "algorithm = algorithm_selector.value\n",
    "algorithm_selector.observe(update_algorithm, names=\"value\")\n",
    "\n",
    "# Display Markdown and the widget together\n",
    "display(Markdown(md_text))\n",
    "display(algorithm_selector)\n",
    "\n"
   ]
  },
  {
   "cell_type": "code",
   "execution_count": 7,
   "metadata": {},
   "outputs": [],
   "source": [
    "from game_of_life import run_trained_agent, run_random_agent, FarmLifeEnv\n",
    "\n",
    "env = FarmLifeEnv()\n",
    "\n",
    "algorithm = algorithm\n",
    "if algorithm != 'Random Agent':\n",
    "    run_trained_agent(env, algorithm=algorithm, model_path=f\"./models/{algorithm.lower()}_farm_life.zip\")\n",
    "else:\n",
    "    run_random_agent(env)"
   ]
  }
 ],
 "metadata": {
  "kernelspec": {
   "display_name": "simulations",
   "language": "python",
   "name": "python3"
  },
  "language_info": {
   "codemirror_mode": {
    "name": "ipython",
    "version": 3
   },
   "file_extension": ".py",
   "mimetype": "text/x-python",
   "name": "python",
   "nbconvert_exporter": "python",
   "pygments_lexer": "ipython3",
   "version": "3.12.9"
  }
 },
 "nbformat": 4,
 "nbformat_minor": 2
}
